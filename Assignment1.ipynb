{
  "nbformat": 4,
  "nbformat_minor": 0,
  "metadata": {
    "colab": {
      "provenance": [],
      "toc_visible": true
    },
    "kernelspec": {
      "name": "python3",
      "display_name": "Python 3"
    },
    "language_info": {
      "name": "python"
    }
  },
  "cells": [
    {
      "cell_type": "code",
      "execution_count": null,
      "metadata": {
        "id": "xh5bBJNmYJpZ"
      },
      "outputs": [],
      "source": [
        "import pandas as pd"
      ]
    },
    {
      "cell_type": "code",
      "source": [
        "!pip install openpyxl"
      ],
      "metadata": {
        "colab": {
          "base_uri": "https://localhost:8080/"
        },
        "id": "I-dtqKVBoJwk",
        "outputId": "40424a21-0cfd-4aa0-a167-460a75197d49"
      },
      "execution_count": null,
      "outputs": [
        {
          "output_type": "stream",
          "name": "stdout",
          "text": [
            "Requirement already satisfied: openpyxl in /usr/local/lib/python3.10/dist-packages (3.1.5)\n",
            "Requirement already satisfied: et-xmlfile in /usr/local/lib/python3.10/dist-packages (from openpyxl) (2.0.0)\n"
          ]
        }
      ]
    },
    {
      "cell_type": "code",
      "source": [
        "#file_path = 'B:\\\\assignement\\\\Data.xlsx'"
      ],
      "metadata": {
        "id": "ixkUXYtZpgQ8"
      },
      "execution_count": null,
      "outputs": []
    },
    {
      "cell_type": "code",
      "source": [
        "#uploaded = Data.upload()\n",
        "from google.colab import files"
      ],
      "metadata": {
        "id": "kP-zKDUcvMtF"
      },
      "execution_count": null,
      "outputs": []
    },
    {
      "cell_type": "code",
      "source": [
        "uploaded = files.upload()"
      ],
      "metadata": {
        "colab": {
          "base_uri": "https://localhost:8080/",
          "height": 90
        },
        "id": "kKX47e72vyYW",
        "outputId": "80a453f3-2a1d-4b8b-956d-7401df8ee1fb"
      },
      "execution_count": null,
      "outputs": [
        {
          "output_type": "display_data",
          "data": {
            "text/plain": [
              "<IPython.core.display.HTML object>"
            ],
            "text/html": [
              "\n",
              "     <input type=\"file\" id=\"files-2020d37e-8653-442b-ad4c-5492d43ef128\" name=\"files[]\" multiple disabled\n",
              "        style=\"border:none\" />\n",
              "     <output id=\"result-2020d37e-8653-442b-ad4c-5492d43ef128\">\n",
              "      Upload widget is only available when the cell has been executed in the\n",
              "      current browser session. Please rerun this cell to enable.\n",
              "      </output>\n",
              "      <script>// Copyright 2017 Google LLC\n",
              "//\n",
              "// Licensed under the Apache License, Version 2.0 (the \"License\");\n",
              "// you may not use this file except in compliance with the License.\n",
              "// You may obtain a copy of the License at\n",
              "//\n",
              "//      http://www.apache.org/licenses/LICENSE-2.0\n",
              "//\n",
              "// Unless required by applicable law or agreed to in writing, software\n",
              "// distributed under the License is distributed on an \"AS IS\" BASIS,\n",
              "// WITHOUT WARRANTIES OR CONDITIONS OF ANY KIND, either express or implied.\n",
              "// See the License for the specific language governing permissions and\n",
              "// limitations under the License.\n",
              "\n",
              "/**\n",
              " * @fileoverview Helpers for google.colab Python module.\n",
              " */\n",
              "(function(scope) {\n",
              "function span(text, styleAttributes = {}) {\n",
              "  const element = document.createElement('span');\n",
              "  element.textContent = text;\n",
              "  for (const key of Object.keys(styleAttributes)) {\n",
              "    element.style[key] = styleAttributes[key];\n",
              "  }\n",
              "  return element;\n",
              "}\n",
              "\n",
              "// Max number of bytes which will be uploaded at a time.\n",
              "const MAX_PAYLOAD_SIZE = 100 * 1024;\n",
              "\n",
              "function _uploadFiles(inputId, outputId) {\n",
              "  const steps = uploadFilesStep(inputId, outputId);\n",
              "  const outputElement = document.getElementById(outputId);\n",
              "  // Cache steps on the outputElement to make it available for the next call\n",
              "  // to uploadFilesContinue from Python.\n",
              "  outputElement.steps = steps;\n",
              "\n",
              "  return _uploadFilesContinue(outputId);\n",
              "}\n",
              "\n",
              "// This is roughly an async generator (not supported in the browser yet),\n",
              "// where there are multiple asynchronous steps and the Python side is going\n",
              "// to poll for completion of each step.\n",
              "// This uses a Promise to block the python side on completion of each step,\n",
              "// then passes the result of the previous step as the input to the next step.\n",
              "function _uploadFilesContinue(outputId) {\n",
              "  const outputElement = document.getElementById(outputId);\n",
              "  const steps = outputElement.steps;\n",
              "\n",
              "  const next = steps.next(outputElement.lastPromiseValue);\n",
              "  return Promise.resolve(next.value.promise).then((value) => {\n",
              "    // Cache the last promise value to make it available to the next\n",
              "    // step of the generator.\n",
              "    outputElement.lastPromiseValue = value;\n",
              "    return next.value.response;\n",
              "  });\n",
              "}\n",
              "\n",
              "/**\n",
              " * Generator function which is called between each async step of the upload\n",
              " * process.\n",
              " * @param {string} inputId Element ID of the input file picker element.\n",
              " * @param {string} outputId Element ID of the output display.\n",
              " * @return {!Iterable<!Object>} Iterable of next steps.\n",
              " */\n",
              "function* uploadFilesStep(inputId, outputId) {\n",
              "  const inputElement = document.getElementById(inputId);\n",
              "  inputElement.disabled = false;\n",
              "\n",
              "  const outputElement = document.getElementById(outputId);\n",
              "  outputElement.innerHTML = '';\n",
              "\n",
              "  const pickedPromise = new Promise((resolve) => {\n",
              "    inputElement.addEventListener('change', (e) => {\n",
              "      resolve(e.target.files);\n",
              "    });\n",
              "  });\n",
              "\n",
              "  const cancel = document.createElement('button');\n",
              "  inputElement.parentElement.appendChild(cancel);\n",
              "  cancel.textContent = 'Cancel upload';\n",
              "  const cancelPromise = new Promise((resolve) => {\n",
              "    cancel.onclick = () => {\n",
              "      resolve(null);\n",
              "    };\n",
              "  });\n",
              "\n",
              "  // Wait for the user to pick the files.\n",
              "  const files = yield {\n",
              "    promise: Promise.race([pickedPromise, cancelPromise]),\n",
              "    response: {\n",
              "      action: 'starting',\n",
              "    }\n",
              "  };\n",
              "\n",
              "  cancel.remove();\n",
              "\n",
              "  // Disable the input element since further picks are not allowed.\n",
              "  inputElement.disabled = true;\n",
              "\n",
              "  if (!files) {\n",
              "    return {\n",
              "      response: {\n",
              "        action: 'complete',\n",
              "      }\n",
              "    };\n",
              "  }\n",
              "\n",
              "  for (const file of files) {\n",
              "    const li = document.createElement('li');\n",
              "    li.append(span(file.name, {fontWeight: 'bold'}));\n",
              "    li.append(span(\n",
              "        `(${file.type || 'n/a'}) - ${file.size} bytes, ` +\n",
              "        `last modified: ${\n",
              "            file.lastModifiedDate ? file.lastModifiedDate.toLocaleDateString() :\n",
              "                                    'n/a'} - `));\n",
              "    const percent = span('0% done');\n",
              "    li.appendChild(percent);\n",
              "\n",
              "    outputElement.appendChild(li);\n",
              "\n",
              "    const fileDataPromise = new Promise((resolve) => {\n",
              "      const reader = new FileReader();\n",
              "      reader.onload = (e) => {\n",
              "        resolve(e.target.result);\n",
              "      };\n",
              "      reader.readAsArrayBuffer(file);\n",
              "    });\n",
              "    // Wait for the data to be ready.\n",
              "    let fileData = yield {\n",
              "      promise: fileDataPromise,\n",
              "      response: {\n",
              "        action: 'continue',\n",
              "      }\n",
              "    };\n",
              "\n",
              "    // Use a chunked sending to avoid message size limits. See b/62115660.\n",
              "    let position = 0;\n",
              "    do {\n",
              "      const length = Math.min(fileData.byteLength - position, MAX_PAYLOAD_SIZE);\n",
              "      const chunk = new Uint8Array(fileData, position, length);\n",
              "      position += length;\n",
              "\n",
              "      const base64 = btoa(String.fromCharCode.apply(null, chunk));\n",
              "      yield {\n",
              "        response: {\n",
              "          action: 'append',\n",
              "          file: file.name,\n",
              "          data: base64,\n",
              "        },\n",
              "      };\n",
              "\n",
              "      let percentDone = fileData.byteLength === 0 ?\n",
              "          100 :\n",
              "          Math.round((position / fileData.byteLength) * 100);\n",
              "      percent.textContent = `${percentDone}% done`;\n",
              "\n",
              "    } while (position < fileData.byteLength);\n",
              "  }\n",
              "\n",
              "  // All done.\n",
              "  yield {\n",
              "    response: {\n",
              "      action: 'complete',\n",
              "    }\n",
              "  };\n",
              "}\n",
              "\n",
              "scope.google = scope.google || {};\n",
              "scope.google.colab = scope.google.colab || {};\n",
              "scope.google.colab._files = {\n",
              "  _uploadFiles,\n",
              "  _uploadFilesContinue,\n",
              "};\n",
              "})(self);\n",
              "</script> "
            ]
          },
          "metadata": {}
        },
        {
          "output_type": "stream",
          "name": "stdout",
          "text": [
            "Saving Data.xlsx to Data.xlsx\n"
          ]
        }
      ]
    },
    {
      "cell_type": "code",
      "source": [
        "file_path = 'Data.xlsx'"
      ],
      "metadata": {
        "id": "esKFbom8abnz"
      },
      "execution_count": null,
      "outputs": []
    },
    {
      "cell_type": "code",
      "source": [
        " budget_df = pd.read_excel(file_path,sheet_name='Budget')"
      ],
      "metadata": {
        "id": "sIUXkSmyawTH"
      },
      "execution_count": null,
      "outputs": []
    },
    {
      "cell_type": "code",
      "source": [
        "expenditure_df = pd.read_excel(file_path,sheet_name='Expenditure')"
      ],
      "metadata": {
        "id": "XEfit5zpw4yB"
      },
      "execution_count": null,
      "outputs": []
    },
    {
      "cell_type": "code",
      "source": [
        "print(budget_df.columns)"
      ],
      "metadata": {
        "colab": {
          "base_uri": "https://localhost:8080/"
        },
        "id": "NToe1WRs1ERe",
        "outputId": "212211d0-479f-43e9-a8fc-7a881710fd6a"
      },
      "execution_count": null,
      "outputs": [
        {
          "output_type": "stream",
          "name": "stdout",
          "text": [
            "Index(['Date', 'Budget', 'Department'], dtype='object')\n"
          ]
        }
      ]
    },
    {
      "cell_type": "code",
      "source": [
        "# Budget Data Cleaning\n",
        "print(budget_df['Budget'].dtype)\n",
        "print(budget_df['Budget'].unique())"
      ],
      "metadata": {
        "colab": {
          "base_uri": "https://localhost:8080/"
        },
        "id": "Fq-IyW2GxbXL",
        "outputId": "6bf722db-77e0-4bb0-d43f-0bffeee89928"
      },
      "execution_count": null,
      "outputs": [
        {
          "output_type": "stream",
          "name": "stdout",
          "text": [
            "object\n",
            "[51190 52045 89040 '68362   ' 73285 87031 87117 61568 '70758   ' 75861\n",
            " '59653    ' 61869 50228 51971 84436 70144 '-' 58489 78351 58458 78287\n",
            " 82265 72781 85421 78499 '52687    ' nan 83929 58032 90090 74166\n",
            " '82068   ' 58584 50416 62363 50173 50952 95039 56770 83143 99493 60156\n",
            " 62184 78358 '75353   ' 86637 82481 58316 89473 88414 67806 72029 68394\n",
            " 50095 54291 77241]\n"
          ]
        }
      ]
    },
    {
      "cell_type": "code",
      "source": [
        "#convert the column to numeric\n",
        "budget_df['Budget'] = pd.to_numeric(budget_df['Budget'], errors='coerce')"
      ],
      "metadata": {
        "id": "RQtpWz6wxx7I"
      },
      "execution_count": null,
      "outputs": []
    },
    {
      "cell_type": "code",
      "source": [
        "#Drop rows with NULL values:\n",
        "budget_df = budget_df.dropna(subset=['Budget'])"
      ],
      "metadata": {
        "id": "I97pgPR524SR"
      },
      "execution_count": null,
      "outputs": []
    },
    {
      "cell_type": "code",
      "source": [
        "#Fill NULL values with default value 0\n",
        "budget_df['Budget'] = budget_df['Budget'].fillna(0)"
      ],
      "metadata": {
        "colab": {
          "base_uri": "https://localhost:8080/"
        },
        "id": "D_fMC9OS3Wb4",
        "outputId": "242513d0-5f6e-4f17-8f72-bef736f6d347"
      },
      "execution_count": null,
      "outputs": [
        {
          "output_type": "stream",
          "name": "stderr",
          "text": [
            "<ipython-input-73-3958c08a9132>:2: SettingWithCopyWarning: \n",
            "A value is trying to be set on a copy of a slice from a DataFrame.\n",
            "Try using .loc[row_indexer,col_indexer] = value instead\n",
            "\n",
            "See the caveats in the documentation: https://pandas.pydata.org/pandas-docs/stable/user_guide/indexing.html#returning-a-view-versus-a-copy\n",
            "  budget_df['Budget'] = budget_df['Budget'].fillna(0)\n"
          ]
        }
      ]
    },
    {
      "cell_type": "code",
      "source": [
        "print(budget_df['Budget'].dtype)\n",
        "print(budget_df['Budget'].unique())"
      ],
      "metadata": {
        "colab": {
          "base_uri": "https://localhost:8080/"
        },
        "id": "1wsvos5u9rVf",
        "outputId": "d1e8ca35-2df1-4184-d212-f00fec83e1bf"
      },
      "execution_count": null,
      "outputs": [
        {
          "output_type": "stream",
          "name": "stdout",
          "text": [
            "float64\n",
            "[51190. 52045. 89040. 68362. 73285. 87031. 87117. 61568. 70758. 75861.\n",
            " 59653. 61869. 50228. 51971. 84436. 70144. 58489. 78351. 58458. 78287.\n",
            " 82265. 72781. 85421. 78499. 52687. 83929. 58032. 90090. 74166. 82068.\n",
            " 58584. 50416. 62363. 50173. 50952. 95039. 56770. 83143. 99493. 60156.\n",
            " 62184. 78358. 75353. 86637. 82481. 58316. 89473. 88414. 67806. 72029.\n",
            " 68394. 50095. 54291. 77241.]\n"
          ]
        }
      ]
    },
    {
      "cell_type": "code",
      "source": [
        "# Aggregate data: Calculate annual total for each department\n",
        "budget_annual = budget_df.groupby('Department')['Budget'].sum()\n",
        "print(budget_annual)"
      ],
      "metadata": {
        "colab": {
          "base_uri": "https://localhost:8080/"
        },
        "id": "6usotmzt3gar",
        "outputId": "9ef980e1-5de1-412e-d417-886dbc2fadb0"
      },
      "execution_count": 108,
      "outputs": [
        {
          "output_type": "stream",
          "name": "stdout",
          "text": [
            "Department\n",
            "Account       847119.0\n",
            "Hr            721197.0\n",
            "It            800314.0\n",
            "Operations    612703.0\n",
            "Sales         824909.0\n",
            "Name: Budget, dtype: float64\n"
          ]
        }
      ]
    },
    {
      "cell_type": "code",
      "source": [
        "# Budget Data Cleaning\n",
        "print(expenditure_df.columns)"
      ],
      "metadata": {
        "colab": {
          "base_uri": "https://localhost:8080/"
        },
        "id": "3jzHtTAi4C9n",
        "outputId": "1c4b94a6-a24a-4138-f4b6-277205fe2f85"
      },
      "execution_count": null,
      "outputs": [
        {
          "output_type": "stream",
          "name": "stdout",
          "text": [
            "Index(['Date', 'Actual Spend  ', '   Department'], dtype='object')\n"
          ]
        }
      ]
    },
    {
      "cell_type": "code",
      "source": [
        "#To remove extra space from column name\n",
        "expenditure_df.columns = expenditure_df.columns.str.strip()"
      ],
      "metadata": {
        "id": "uWrvMZDU45E4"
      },
      "execution_count": null,
      "outputs": []
    },
    {
      "cell_type": "code",
      "source": [
        "print(expenditure_df.columns)"
      ],
      "metadata": {
        "colab": {
          "base_uri": "https://localhost:8080/"
        },
        "id": "tGaMqs9E5YCy",
        "outputId": "ee517f76-d67d-4d23-bc57-90d1d6fea43b"
      },
      "execution_count": null,
      "outputs": [
        {
          "output_type": "stream",
          "name": "stdout",
          "text": [
            "Index(['Date', 'Actual Spend', 'Department'], dtype='object')\n"
          ]
        }
      ]
    },
    {
      "cell_type": "code",
      "source": [
        "print(expenditure_df['Actual Spend'].dtype)"
      ],
      "metadata": {
        "colab": {
          "base_uri": "https://localhost:8080/"
        },
        "id": "UwuRBUrY7XoN",
        "outputId": "6f583a73-96f1-41ae-b773-646f2dd715cf"
      },
      "execution_count": null,
      "outputs": [
        {
          "output_type": "stream",
          "name": "stdout",
          "text": [
            "object\n"
          ]
        }
      ]
    },
    {
      "cell_type": "code",
      "source": [
        "print(expenditure_df['Actual Spend'].unique())"
      ],
      "metadata": {
        "colab": {
          "base_uri": "https://localhost:8080/"
        },
        "id": "JI8026uK7pCa",
        "outputId": "b05dced6-7f8c-4183-e87d-1e6931236205"
      },
      "execution_count": null,
      "outputs": [
        {
          "output_type": "stream",
          "name": "stdout",
          "text": [
            "[85799 '97385  ' 95259 86532 nan 72466 53974 72199 '82356   ' 62939 58316\n",
            " 85103 84105 92909 '-' 65755 78459 52603 86725 58786 88427 62549 89861\n",
            " '66273   ' '86302   ' 84640 77205 77944 76910 '97249   ' 56341 51802\n",
            " 75745 64687 86980 53495 61690 81959 64676 71166 76046 54246 63022 61894\n",
            " 86941 91635 57801 96888 70478 62943 '72483   ' 92476 58738 56206 94216]\n"
          ]
        }
      ]
    },
    {
      "cell_type": "code",
      "source": [
        "#convert the column to numeric\n",
        "expenditure_df['Actual Spend'] = pd.to_numeric(expenditure_df['Actual Spend'], errors='coerce')"
      ],
      "metadata": {
        "id": "RvlOL_sb79aC"
      },
      "execution_count": null,
      "outputs": []
    },
    {
      "cell_type": "code",
      "source": [
        "#Drop rows with NULL values:\n",
        "expenditure_df = expenditure_df.dropna(subset=['Actual Spend'])"
      ],
      "metadata": {
        "id": "KJNJhdvi8Me_"
      },
      "execution_count": null,
      "outputs": []
    },
    {
      "cell_type": "code",
      "source": [
        "#Fill NULL values with default value 0\n",
        "expenditure_df['Actual Spend'] = expenditure_df['Actual Spend'].fillna(0)"
      ],
      "metadata": {
        "colab": {
          "base_uri": "https://localhost:8080/"
        },
        "id": "tM5JQhY196qQ",
        "outputId": "768070bf-32cc-487d-da76-a92bb2024004"
      },
      "execution_count": null,
      "outputs": [
        {
          "output_type": "stream",
          "name": "stderr",
          "text": [
            "<ipython-input-94-4bef17fd57ac>:2: SettingWithCopyWarning: \n",
            "A value is trying to be set on a copy of a slice from a DataFrame.\n",
            "Try using .loc[row_indexer,col_indexer] = value instead\n",
            "\n",
            "See the caveats in the documentation: https://pandas.pydata.org/pandas-docs/stable/user_guide/indexing.html#returning-a-view-versus-a-copy\n",
            "  expenditure_df['Actual Spend'] = expenditure_df['Actual Spend'].fillna(0)\n"
          ]
        }
      ]
    },
    {
      "cell_type": "code",
      "source": [
        "# Aggregate data: Calculate annual total for each department\n",
        "expenditure_annual = expenditure_df.groupby('Department')['Actual Spend'].sum()\n",
        "print(expenditure_annual)"
      ],
      "metadata": {
        "id": "pfHT2gWxJC17",
        "colab": {
          "base_uri": "https://localhost:8080/"
        },
        "outputId": "d2465ed4-c6f7-432e-a6f9-04531e3c51ec"
      },
      "execution_count": 105,
      "outputs": [
        {
          "output_type": "stream",
          "name": "stdout",
          "text": [
            "Department\n",
            "Account       843427.0\n",
            "Hr            624448.0\n",
            "It            784397.0\n",
            "Operations    872476.0\n",
            "Sales         818836.0\n",
            "Name: Actual Spend, dtype: float64\n"
          ]
        }
      ]
    },
    {
      "cell_type": "code",
      "source": [
        "#remove extra spaces\n",
        "expenditure_df['Department'] = expenditure_df['Department'].str.strip()\n",
        "budget_df['Department'] = budget_df['Department'].str.strip()"
      ],
      "metadata": {
        "colab": {
          "base_uri": "https://localhost:8080/"
        },
        "id": "A_vTv7bgJ0W1",
        "outputId": "2b8cbb6e-7d31-4a2f-a1e1-604b5b993f2b"
      },
      "execution_count": 99,
      "outputs": [
        {
          "output_type": "stream",
          "name": "stderr",
          "text": [
            "<ipython-input-99-82538dc6db87>:2: SettingWithCopyWarning: \n",
            "A value is trying to be set on a copy of a slice from a DataFrame.\n",
            "Try using .loc[row_indexer,col_indexer] = value instead\n",
            "\n",
            "See the caveats in the documentation: https://pandas.pydata.org/pandas-docs/stable/user_guide/indexing.html#returning-a-view-versus-a-copy\n",
            "  expenditure_df['Department'] = expenditure_df['Department'].str.strip()\n"
          ]
        }
      ]
    },
    {
      "cell_type": "code",
      "source": [
        "# Convert to lowercase or title case\n",
        "budget_df['Department'] = budget_df['Department'].str.title()\n",
        "expenditure_df['Department'] = expenditure_df['Department'].str.title()"
      ],
      "metadata": {
        "colab": {
          "base_uri": "https://localhost:8080/"
        },
        "id": "0mUIyCSMKHOI",
        "outputId": "6cbd72cc-c4e8-41a1-ebe9-fdc15507ea39"
      },
      "execution_count": 100,
      "outputs": [
        {
          "output_type": "stream",
          "name": "stderr",
          "text": [
            "<ipython-input-100-adcf9ca295bc>:3: SettingWithCopyWarning: \n",
            "A value is trying to be set on a copy of a slice from a DataFrame.\n",
            "Try using .loc[row_indexer,col_indexer] = value instead\n",
            "\n",
            "See the caveats in the documentation: https://pandas.pydata.org/pandas-docs/stable/user_guide/indexing.html#returning-a-view-versus-a-copy\n",
            "  expenditure_df['Department'] = expenditure_df['Department'].str.title()\n"
          ]
        }
      ]
    },
    {
      "cell_type": "code",
      "source": [
        "# 3. Replace common abbreviations or variations to Standardize variations\n",
        "budget_df['Department'] = budget_df['Department'].replace({\n",
        "    'it': 'IT',\n",
        "    'OPERATIONS': 'Operations',\n",
        "    'hr': 'HR',\n",
        "    'SALES': 'Sales',\n",
        "    'ACCOUNT':'Account'})"
      ],
      "metadata": {
        "id": "_s-4E47SLEC7"
      },
      "execution_count": 102,
      "outputs": []
    },
    {
      "cell_type": "code",
      "source": [
        "expenditure_df['Department'] = expenditure_df['Department'].replace({\n",
        "    'it': 'IT',\n",
        "    'OPERATIONS': 'Operations',\n",
        "    'hr': 'HR',\n",
        "    'SALES': 'Sales',\n",
        "    'ACCOUNT':'Account'})"
      ],
      "metadata": {
        "colab": {
          "base_uri": "https://localhost:8080/"
        },
        "id": "7uvRms3VMEXQ",
        "outputId": "bd915885-2a3c-41fc-a2ea-ea46146493f6"
      },
      "execution_count": 103,
      "outputs": [
        {
          "output_type": "stream",
          "name": "stderr",
          "text": [
            "<ipython-input-103-6b5c4f52fede>:1: SettingWithCopyWarning: \n",
            "A value is trying to be set on a copy of a slice from a DataFrame.\n",
            "Try using .loc[row_indexer,col_indexer] = value instead\n",
            "\n",
            "See the caveats in the documentation: https://pandas.pydata.org/pandas-docs/stable/user_guide/indexing.html#returning-a-view-versus-a-copy\n",
            "  expenditure_df['Department'] = expenditure_df['Department'].replace({\n"
          ]
        }
      ]
    },
    {
      "cell_type": "code",
      "source": [
        "print(expenditure_annual)"
      ],
      "metadata": {
        "colab": {
          "base_uri": "https://localhost:8080/"
        },
        "id": "JciENJPnMWxD",
        "outputId": "0ea2cfd0-55e9-4450-e9ee-cdc8f9fefc0c"
      },
      "execution_count": 106,
      "outputs": [
        {
          "output_type": "stream",
          "name": "stdout",
          "text": [
            "Department\n",
            "Account       843427.0\n",
            "Hr            624448.0\n",
            "It            784397.0\n",
            "Operations    872476.0\n",
            "Sales         818836.0\n",
            "Name: Actual Spend, dtype: float64\n"
          ]
        }
      ]
    },
    {
      "cell_type": "code",
      "source": [
        "print(budget_annual)"
      ],
      "metadata": {
        "colab": {
          "base_uri": "https://localhost:8080/"
        },
        "id": "4-BuHG_GMbv9",
        "outputId": "a3d3daba-1b6b-4db0-b5c0-f78e28089a8d"
      },
      "execution_count": 109,
      "outputs": [
        {
          "output_type": "stream",
          "name": "stdout",
          "text": [
            "Department\n",
            "Account       847119.0\n",
            "Hr            721197.0\n",
            "It            800314.0\n",
            "Operations    612703.0\n",
            "Sales         824909.0\n",
            "Name: Budget, dtype: float64\n"
          ]
        }
      ]
    },
    {
      "cell_type": "code",
      "source": [
        "# Calculating savings: Annual Budget - Annual Expenditure\n",
        "savings_annual = budget_annual - expenditure_annual"
      ],
      "metadata": {
        "id": "ddJPafEqMv-M"
      },
      "execution_count": 110,
      "outputs": []
    },
    {
      "cell_type": "code",
      "source": [
        "print(savings_annual)"
      ],
      "metadata": {
        "colab": {
          "base_uri": "https://localhost:8080/"
        },
        "id": "zLoPJ-TkNPke",
        "outputId": "fa8eef0f-fec2-4e34-8e04-2b90edf84ca1"
      },
      "execution_count": 111,
      "outputs": [
        {
          "output_type": "stream",
          "name": "stdout",
          "text": [
            "Department\n",
            "Account         3692.0\n",
            "Hr             96749.0\n",
            "It             15917.0\n",
            "Operations   -259773.0\n",
            "Sales           6073.0\n",
            "dtype: float64\n"
          ]
        }
      ]
    },
    {
      "cell_type": "code",
      "source": [
        "# Creating a summary DataFrame for clarity\n",
        "savings_summary = pd.DataFrame({\n",
        "    'Annual Budget': budget_annual,\n",
        "    'Annual Expenditure': expenditure_annual,\n",
        "    'Annual Savings': savings_annual\n",
        "}).reset_index()"
      ],
      "metadata": {
        "id": "8HXzJtemNWSA"
      },
      "execution_count": 112,
      "outputs": []
    },
    {
      "cell_type": "code",
      "source": [
        "##Assignment que 1. Calculate department-wise annual savings using Python, Pandas,\n",
        "print(savings_summary)"
      ],
      "metadata": {
        "colab": {
          "base_uri": "https://localhost:8080/"
        },
        "id": "m3MIB2osNfrd",
        "outputId": "0541f9fe-e2d3-4961-b039-42f0048dc893"
      },
      "execution_count": 114,
      "outputs": [
        {
          "output_type": "stream",
          "name": "stdout",
          "text": [
            "   Department  Annual Budget  Annual Expenditure  Annual Savings\n",
            "0     Account       847119.0            843427.0          3692.0\n",
            "1          Hr       721197.0            624448.0         96749.0\n",
            "2          It       800314.0            784397.0         15917.0\n",
            "3  Operations       612703.0            872476.0       -259773.0\n",
            "4       Sales       824909.0            818836.0          6073.0\n"
          ]
        }
      ]
    },
    {
      "cell_type": "code",
      "source": [],
      "metadata": {
        "id": "W-tjSYCONs3w"
      },
      "execution_count": null,
      "outputs": []
    }
  ]
}